{
 "cells": [
  {
   "cell_type": "code",
   "execution_count": null,
   "id": "82dee7ab",
   "metadata": {},
   "outputs": [],
   "source": [
    "n= int(input())\n",
    "# l=[]"
   ]
  },
  {
   "cell_type": "code",
   "execution_count": null,
   "id": "8a9e7053",
   "metadata": {},
   "outputs": [],
   "source": [
    "# def rev(li, l):\n",
    "#     res = li[0]\n",
    "#     for i in range(1, l):\n",
    "#         res = res ^ li[i]\n",
    "#     return res\n",
    "# n = int(input())\n",
    "# li = [int(x) for x in input().split()[:n]]\n",
    "\n",
    "# print(rev(li, len(li)))\n",
    "\n",
    "# or\n",
    "\n",
    "def findUnique(arr, n):\n",
    "    num = 0\n",
    "    for i in range(n):\n",
    "        num ^= arr[i]\n",
    "    return num\n",
    "\n",
    "    "
   ]
  },
  {
   "cell_type": "markdown",
   "id": "b2e8298c",
   "metadata": {},
   "source": [
    "### Find Duplicate"
   ]
  },
  {
   "cell_type": "code",
   "execution_count": 10,
   "id": "02b148d6",
   "metadata": {},
   "outputs": [
    {
     "name": "stdout",
     "output_type": "stream",
     "text": [
      "5\n",
      "1 2 2 3 4 5\n",
      "2\n"
     ]
    }
   ],
   "source": [
    "def duplicateNumber(arr, n) :\n",
    "    \n",
    "    count=1\n",
    "    res=0\n",
    "    for i in range(0,j):\n",
    "        if num.count(num[i])>count:\n",
    "            res=num[i]\n",
    "        return res\n",
    "    #Your code goes here\n",
    "\n",
    "\n",
    "\n",
    "j=int(input())\n",
    "num=list(map(int,input().split()))\n",
    "print(res)"
   ]
  },
  {
   "cell_type": "code",
   "execution_count": null,
   "id": "1cc4ef7e",
   "metadata": {},
   "outputs": [],
   "source": [
    "\n",
    "\n",
    "\n"
   ]
  },
  {
   "cell_type": "code",
   "execution_count": null,
   "id": "950ee49b",
   "metadata": {},
   "outputs": [],
   "source": []
  }
 ],
 "metadata": {
  "kernelspec": {
   "display_name": "Python 3 (ipykernel)",
   "language": "python",
   "name": "python3"
  },
  "language_info": {
   "codemirror_mode": {
    "name": "ipython",
    "version": 3
   },
   "file_extension": ".py",
   "mimetype": "text/x-python",
   "name": "python",
   "nbconvert_exporter": "python",
   "pygments_lexer": "ipython3",
   "version": "3.9.7"
  }
 },
 "nbformat": 4,
 "nbformat_minor": 5
}
