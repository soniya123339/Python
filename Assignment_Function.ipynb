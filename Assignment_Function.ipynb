{
 "cells": [
  {
   "cell_type": "code",
   "execution_count": 4,
   "id": "9776363c",
   "metadata": {},
   "outputs": [
    {
     "name": "stdout",
     "output_type": "stream",
     "text": [
      "6\n",
      "true\n"
     ]
    }
   ],
   "source": [
    "def checkMember(n):\n",
    "#     First = 0\n",
    "#     Second = 1\n",
    "#     for n in range(0, n):\n",
    "        \n",
    "#         if(n <= 1):\n",
    "#             Next = n\n",
    "#         else:\n",
    "#             Next = First + Second\n",
    "#             First = Second\n",
    "#             second = Next\n",
    "#         return checkMember\n",
    "    if(n == 0):\n",
    "        return 0\n",
    "    elif(n == 1):\n",
    "        return 1\n",
    "    else:\n",
    "        return (checkMember(n - 2)+ checkMember(n - 1))\n",
    "\n",
    "  \n",
    "    \n",
    "#Implement Your Code Here\n",
    "\n",
    "    \n",
    "\n",
    "n=int(input())\n",
    "if(checkMember(n)):\n",
    "    print(\"true\")\n",
    "else:\n",
    "    print(\"false\")"
   ]
  },
  {
   "cell_type": "code",
   "execution_count": 8,
   "id": "0418e1ac",
   "metadata": {},
   "outputs": [
    {
     "name": "stdout",
     "output_type": "stream",
     "text": [
      "2\n",
      "true\n"
     ]
    }
   ],
   "source": [
    "# Palindrome function\n",
    "\n",
    "def checkPalindrome(n):\n",
    "    Revese = 0\n",
    "    while n > 0:\n",
    "        Remainder = n % 10\n",
    "        n = int(n / 10)\n",
    "        Revese = Revese * 10 + Remainder\n",
    "    return Revese\n",
    "\n",
    "\n",
    "num = int(input())\n",
    "Rev=checkPalindrome(num)\n",
    "if (num==Rev):\n",
    "    print('true')\n",
    "else:\n",
    "    print('false')"
   ]
  },
  {
   "cell_type": "code",
   "execution_count": null,
   "id": "bee4e260",
   "metadata": {},
   "outputs": [],
   "source": [
    "def finpart(5):\n",
    "\ti=1    \n",
    "\ta=1\n",
    "\tb=1\n",
    "\twhile i<n+1:   \n",
    "\t\ti=a+b    \n",
    "\t\ta=b\t\t\n",
    "\t\tb=i\n",
    "\t\ti=i+1\n",
    "\treturn b\t"
   ]
  },
  {
   "cell_type": "code",
   "execution_count": null,
   "id": "f5a9741c",
   "metadata": {},
   "outputs": [],
   "source": [
    "# Armstrong number\n",
    "\n",
    "n=int(input())\n",
    "first=0\n",
    "last=0\n",
    "mid=0\n",
    "i=n\n",
    "while n>0:\n",
    "\n",
    "    \n",
    "\n"
   ]
  }
 ],
 "metadata": {
  "kernelspec": {
   "display_name": "Python 3 (ipykernel)",
   "language": "python",
   "name": "python3"
  },
  "language_info": {
   "codemirror_mode": {
    "name": "ipython",
    "version": 3
   },
   "file_extension": ".py",
   "mimetype": "text/x-python",
   "name": "python",
   "nbconvert_exporter": "python",
   "pygments_lexer": "ipython3",
   "version": "3.9.7"
  }
 },
 "nbformat": 4,
 "nbformat_minor": 5
}
