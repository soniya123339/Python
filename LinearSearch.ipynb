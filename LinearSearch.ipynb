{
 "cells": [
  {
   "cell_type": "markdown",
   "id": "11606f7f",
   "metadata": {},
   "source": [
    "### LinearSearch"
   ]
  },
  {
   "cell_type": "markdown",
   "id": "b6b272fe",
   "metadata": {},
   "source": [
    "search element in the list and print the index of the element"
   ]
  },
  {
   "cell_type": "code",
   "execution_count": 1,
   "id": "30269f6a",
   "metadata": {},
   "outputs": [
    {
     "name": "stdout",
     "output_type": "stream",
     "text": [
      "7\n"
     ]
    }
   ],
   "source": [
    "n= int(input())"
   ]
  },
  {
   "cell_type": "code",
   "execution_count": 2,
   "id": "caee2e34",
   "metadata": {},
   "outputs": [
    {
     "name": "stdout",
     "output_type": "stream",
     "text": [
      "2 4 5 6 7 8\n"
     ]
    }
   ],
   "source": [
    "# create list element \n",
    "\n",
    "li= [int(x) for x in input().split()]"
   ]
  },
  {
   "cell_type": "code",
   "execution_count": 3,
   "id": "c9731b90",
   "metadata": {},
   "outputs": [
    {
     "data": {
      "text/plain": [
       "[2, 4, 5, 6, 7, 8]"
      ]
     },
     "execution_count": 3,
     "metadata": {},
     "output_type": "execute_result"
    }
   ],
   "source": [
    "#  list print\n",
    "li"
   ]
  },
  {
   "cell_type": "code",
   "execution_count": 6,
   "id": "f0df45eb",
   "metadata": {},
   "outputs": [
    {
     "name": "stdout",
     "output_type": "stream",
     "text": [
      "4\n"
     ]
    }
   ],
   "source": [
    "# Linear search: taking input for ele serach\n",
    "ele= int(input())"
   ]
  },
  {
   "cell_type": "code",
   "execution_count": 10,
   "id": "0d17c9ae",
   "metadata": {},
   "outputs": [
    {
     "name": "stdout",
     "output_type": "stream",
     "text": [
      "1\n"
     ]
    }
   ],
   "source": [
    "# For searching the ele\n",
    "\n",
    "flag= False\n",
    "for i in range(len(li)):\n",
    "    if li[i]==ele:\n",
    "        print(i)\n",
    "        flag= True\n",
    "        break\n",
    "        \n",
    "if flag is False:\n",
    "    print(-1)\n",
    "        "
   ]
  },
  {
   "cell_type": "markdown",
   "id": "583f83ba",
   "metadata": {},
   "source": [
    "### Linear Search Throught Function"
   ]
  },
  {
   "cell_type": "code",
   "execution_count": 13,
   "id": "82df665d",
   "metadata": {},
   "outputs": [
    {
     "name": "stdout",
     "output_type": "stream",
     "text": [
      "3\n"
     ]
    }
   ],
   "source": [
    "# create function for same problem\n",
    "def linear_search(li,ele):\n",
    "#     li is the list and ele in the element to be search\n",
    "    for i in range(len(li)):\n",
    "        if li[i]==ele:\n",
    "            return i\n",
    "    return -1    \n",
    "\n",
    "\n",
    "li= [2,3,4,5,6,7,8]\n",
    "index_found= linear_search(li,5)\n",
    "print(index_found)"
   ]
  },
  {
   "cell_type": "code",
   "execution_count": null,
   "id": "e33b31fe",
   "metadata": {},
   "outputs": [],
   "source": []
  }
 ],
 "metadata": {
  "kernelspec": {
   "display_name": "Python 3 (ipykernel)",
   "language": "python",
   "name": "python3"
  },
  "language_info": {
   "codemirror_mode": {
    "name": "ipython",
    "version": 3
   },
   "file_extension": ".py",
   "mimetype": "text/x-python",
   "name": "python",
   "nbconvert_exporter": "python",
   "pygments_lexer": "ipython3",
   "version": "3.9.7"
  }
 },
 "nbformat": 4,
 "nbformat_minor": 5
}
