{
 "cells": [
  {
   "cell_type": "code",
   "execution_count": 2,
   "id": "b2e16234",
   "metadata": {},
   "outputs": [
    {
     "name": "stdout",
     "output_type": "stream",
     "text": [
      "1 2 "
     ]
    }
   ],
   "source": [
    "x = y = 1\n",
    "\n",
    "while x < 4:\n",
    "    \n",
    "    x += 1\n",
    "    while y < 3:\n",
    "        print(y, end=' ')\n",
    "\n",
    "        y += 1"
   ]
  },
  {
   "cell_type": "code",
   "execution_count": 3,
   "id": "1a9ca543",
   "metadata": {},
   "outputs": [
    {
     "name": "stdout",
     "output_type": "stream",
     "text": [
      "[0, 1, 4, 9, 16]\n"
     ]
    }
   ],
   "source": [
    "x = list(map(lambda x:x**2, range(5)))\n",
    "\n",
    "print(x)"
   ]
  },
  {
   "cell_type": "code",
   "execution_count": 1,
   "id": "6edad0e0",
   "metadata": {},
   "outputs": [],
   "source": [
    "def gen():\n",
    "\n",
    "    x = 2\n",
    "\n",
    "    while True:\n",
    "        yield x\n",
    "        x += 1\n",
    "        y = gen()\n",
    "        for i in y:\n",
    "            \n",
    "\n",
    "            if i >= 5:\n",
    "                break\n",
    "\n",
    "            else:\n",
    "                print(i, end='')"
   ]
  },
  {
   "cell_type": "code",
   "execution_count": 2,
   "id": "d56d8dfc",
   "metadata": {},
   "outputs": [],
   "source": [
    "def test(i,j):\n",
    "    if(i==0):\n",
    "        return j\n",
    "    \n",
    "    else:\n",
    "        return test(i-1,i+j)\n",
    "    \n",
    "\n",
    "    print(test(4,7))"
   ]
  },
  {
   "cell_type": "code",
   "execution_count": null,
   "id": "a947f4de",
   "metadata": {},
   "outputs": [],
   "source": []
  },
  {
   "cell_type": "code",
   "execution_count": null,
   "id": "cabbdaaf",
   "metadata": {},
   "outputs": [],
   "source": []
  }
 ],
 "metadata": {
  "kernelspec": {
   "display_name": "Python 3 (ipykernel)",
   "language": "python",
   "name": "python3"
  },
  "language_info": {
   "codemirror_mode": {
    "name": "ipython",
    "version": 3
   },
   "file_extension": ".py",
   "mimetype": "text/x-python",
   "name": "python",
   "nbconvert_exporter": "python",
   "pygments_lexer": "ipython3",
   "version": "3.9.7"
  }
 },
 "nbformat": 4,
 "nbformat_minor": 5
}
