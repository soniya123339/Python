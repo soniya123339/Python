{
 "cells": [
  {
   "cell_type": "markdown",
   "id": "01118248",
   "metadata": {},
   "source": [
    "### Print hello world"
   ]
  },
  {
   "cell_type": "markdown",
   "id": "d42ffd29",
   "metadata": {},
   "source": [
    "print(\"Hello world\")"
   ]
  },
  {
   "cell_type": "code",
   "execution_count": null,
   "id": "75d0b15e",
   "metadata": {},
   "outputs": [],
   "source": [
    "print('Python is a PL')"
   ]
  },
  {
   "cell_type": "markdown",
   "id": "3c66c235",
   "metadata": {},
   "source": [
    "### Variables"
   ]
  },
  {
   "cell_type": "markdown",
   "id": "be242c5d",
   "metadata": {},
   "source": [
    "we can assign varible name as upper case,lower case, digi(0-9),_. but starting with digit is not allowed ."
   ]
  },
  {
   "cell_type": "code",
   "execution_count": null,
   "id": "96e9b00d",
   "metadata": {},
   "outputs": [],
   "source": [
    "a= 20\n",
    "b= 30\n",
    "sum= a+b\n",
    "print(sum)\n",
    "# if using sum in (\"\")\n",
    "print(\"sum\")"
   ]
  },
  {
   "cell_type": "markdown",
   "id": "1342927a",
   "metadata": {},
   "source": [
    "### Datatypes (assigning different types of data to a variable)"
   ]
  },
  {
   "cell_type": "code",
   "execution_count": null,
   "id": "46908bd6",
   "metadata": {},
   "outputs": [],
   "source": [
    "a= 10\n",
    "a=30\n",
    "a= 5.6\n",
    "a= \"http\"\n",
    "print(a)"
   ]
  },
  {
   "cell_type": "code",
   "execution_count": null,
   "id": "a146e6ee",
   "metadata": {},
   "outputs": [],
   "source": [
    "# In JAVA : jave needs to deffine the datatype of a variable, which will be used to store a data in the memory or storage(int:4 bytes, etc)\n",
    "# so it will used a print the output.\n",
    "\n",
    "# IN PYTHON: python needs not to define the which dayatype will be used for define the variable.it will use to store the address of the variable.\n",
    "# next tyme if we will use same varaible with different value so it will print the new address or value of a variable. (type())cnmd is used for tell the which type of variable we will use."
   ]
  },
  {
   "cell_type": "code",
   "execution_count": null,
   "id": "58a9f3eb",
   "metadata": {},
   "outputs": [],
   "source": [
    "a=\"abc\"\n",
    "print(type(a))\n",
    "a= 10\n",
    "print(type(a))"
   ]
  },
  {
   "cell_type": "code",
   "execution_count": null,
   "id": "775fc386",
   "metadata": {},
   "outputs": [],
   "source": [
    "x = \"abcd\"\n",
    "x = 10\n",
    "print(type(x))"
   ]
  },
  {
   "cell_type": "markdown",
   "id": "34466131",
   "metadata": {},
   "source": [
    "### Python Numbers"
   ]
  },
  {
   "cell_type": "code",
   "execution_count": null,
   "id": "ec758632",
   "metadata": {},
   "outputs": [],
   "source": [
    "a= 10\n",
    "a= a+1\n",
    "print(a)\n",
    "print(id(a))\n",
    "# Id is the keyword or cmd to tell the which is will be used to store in the memory & IDENTIFICATION NUMBER.\n",
    "# Range-if numbers are in range of(-5 to 256), sothe id will be same for the same values but out of range values's id will be differen."
   ]
  },
  {
   "cell_type": "raw",
   "id": "77e67410",
   "metadata": {},
   "source": [
    "# a= 10\n",
    "a= 1000\n",
    "# b=10\n",
    "b=1000\n",
    "print(id(a))\n",
    "print(id(b))"
   ]
  },
  {
   "cell_type": "code",
   "execution_count": null,
   "id": "aa9f525b",
   "metadata": {},
   "outputs": [],
   "source": [
    "a = 10\n",
    "c = id(a)\n",
    "print(c)\n",
    "b = a + 2-2\n",
    "d = id(b)\n",
    "print(d)"
   ]
  },
  {
   "cell_type": "code",
   "execution_count": null,
   "id": "f1ef4894",
   "metadata": {},
   "outputs": [],
   "source": [
    "# IN JAVA/C++ : we only used int as 4bytes memory. if we have long or huge int than, it will will not fit 4bytes.like java has short int (2 bytes)\n",
    "#     long int(8bytes)\n",
    "# In Pythin: it will store short as well as long huge datatype memory."
   ]
  },
  {
   "cell_type": "markdown",
   "id": "0c87fdf0",
   "metadata": {},
   "source": [
    "### Arithmatic operators "
   ]
  },
  {
   "cell_type": "code",
   "execution_count": null,
   "id": "9fc727aa",
   "metadata": {},
   "outputs": [],
   "source": [
    "a= 10\n",
    "b= 3\n",
    "print(a+b) \n",
    "print(a-b)"
   ]
  },
  {
   "cell_type": "code",
   "execution_count": null,
   "id": "19d10550",
   "metadata": {},
   "outputs": [],
   "source": [
    "a*b     #multiplication"
   ]
  },
  {
   "cell_type": "code",
   "execution_count": null,
   "id": "989d3bed",
   "metadata": {},
   "outputs": [],
   "source": [
    "a/b     # floating point division"
   ]
  },
  {
   "cell_type": "code",
   "execution_count": null,
   "id": "0b8c0782",
   "metadata": {},
   "outputs": [],
   "source": [
    "a//b    # integer division"
   ]
  },
  {
   "cell_type": "code",
   "execution_count": null,
   "id": "e10d8282",
   "metadata": {},
   "outputs": [],
   "source": [
    "a**b    # exponentiantion"
   ]
  },
  {
   "cell_type": "code",
   "execution_count": null,
   "id": "bfaf5b32",
   "metadata": {},
   "outputs": [],
   "source": [
    "a%b     # Modulous(gives reminder)"
   ]
  },
  {
   "cell_type": "code",
   "execution_count": null,
   "id": "07714123",
   "metadata": {},
   "outputs": [],
   "source": [
    "# Badmass types operation\n",
    "\n",
    "2+3*4  #14 or 20"
   ]
  },
  {
   "cell_type": "code",
   "execution_count": null,
   "id": "2a27cd1c",
   "metadata": {},
   "outputs": [],
   "source": [
    "2+3/4   # doesn't matter what operation is done first"
   ]
  },
  {
   "cell_type": "code",
   "execution_count": null,
   "id": "052a37e2",
   "metadata": {},
   "outputs": [],
   "source": [
    "(2+3)//4  # Put the brackest() to remove the confusion to perform the operation"
   ]
  },
  {
   "cell_type": "code",
   "execution_count": null,
   "id": "e70fba37",
   "metadata": {},
   "outputs": [],
   "source": [
    "# Simple interest to lower integer\n",
    "\n",
    "p= 100\n",
    "r= 12\n",
    "t= 2\n",
    "# si= p*r*t//100\n",
    "# si= t//100*p*r\n",
    "si= (p*r*t)//100\n",
    "print(si)"
   ]
  },
  {
   "cell_type": "code",
   "execution_count": null,
   "id": "98b377cb",
   "metadata": {},
   "outputs": [],
   "source": [
    "# fah to celcius conversion\n",
    "\n",
    "f= 100\n",
    "c= (f-32)*5/9\n",
    "print(c)\n",
    "ci= (f-32)*5//9\n",
    "print(c)"
   ]
  },
  {
   "cell_type": "code",
   "execution_count": null,
   "id": "944e9355",
   "metadata": {},
   "outputs": [],
   "source": [
    "print(17/10)"
   ]
  },
  {
   "cell_type": "markdown",
   "id": "74a4598f",
   "metadata": {},
   "source": [
    " # Taking input from user"
   ]
  },
  {
   "cell_type": "code",
   "execution_count": null,
   "id": "4e894909",
   "metadata": {},
   "outputs": [],
   "source": [
    "a=input()\n",
    "b= input()\n",
    "s= a+b\n",
    "type(a)\n",
    "print(s)\n",
    "# it concatinate the values of a and b bcoz it gives a string by default.\n",
    "# type(a) # means input cmd always gives you string by default.so we need typecasting."
   ]
  },
  {
   "cell_type": "code",
   "execution_count": null,
   "id": "8d3aea27",
   "metadata": {},
   "outputs": [],
   "source": [
    "\n",
    "# a= int(input())\n",
    "# type(a)\n",
    "\n",
    "a= float(input())\n",
    "type(a)"
   ]
  },
  {
   "cell_type": "code",
   "execution_count": null,
   "id": "36abcd4f",
   "metadata": {},
   "outputs": [],
   "source": [
    "# Adding two int numbers for taking the user input\n",
    "a= int(input())\n",
    "b= int(input())\n",
    "sum= a+b\n",
    "type(sum)\n",
    "print(sum)"
   ]
  },
  {
   "cell_type": "code",
   "execution_count": null,
   "id": "9f59a1a9",
   "metadata": {},
   "outputs": [],
   "source": [
    "# fah to celcius conversion fron taking input from the user\n",
    "\n",
    "f= int(input())\n",
    "c= (f-32)*5/9\n",
    "# print(c)\n",
    "ci= (f-32)*5//9\n",
    "print(c)"
   ]
  },
  {
   "cell_type": "code",
   "execution_count": null,
   "id": "0217dd25",
   "metadata": {},
   "outputs": [],
   "source": [
    "# Simple interest to lower integer from taking the user input\n",
    "\n",
    "p= int(input())\n",
    "r= int(input())\n",
    "t= int(input())\n",
    "# si= p*r*t//100\n",
    "# si= t//100*p*r\n",
    "si= (p*r*t)//100\n",
    "# print(float(si))\n",
    "print(si)"
   ]
  },
  {
   "cell_type": "code",
   "execution_count": null,
   "id": "b25af82b",
   "metadata": {},
   "outputs": [],
   "source": [
    "# Avg of three num\n",
    "\n",
    "num1 = int(input())\n",
    "num2 = int(input())\n",
    "num3 = int(input())\n",
    "\n",
    "avg= (num1+num2+num3)/3\n",
    "print(avg)"
   ]
  },
  {
   "cell_type": "code",
   "execution_count": null,
   "id": "7d8b36d2",
   "metadata": {},
   "outputs": [],
   "source": [
    "# find x power n\n",
    "\n",
    "a= int(input())\n",
    "b= int(input())\n",
    "\n",
    "pow= a**b\n",
    "print(pow)"
   ]
  },
  {
   "cell_type": "code",
   "execution_count": null,
   "id": "0107f458",
   "metadata": {},
   "outputs": [],
   "source": [
    "# Airthmatic progression\n",
    "\n",
    "num1= int(input())\n",
    "num2= int(input())\n",
    "num3= int(input())\n",
    "\n",
    "d= num3-num2\n",
    "print(d)"
   ]
  },
  {
   "cell_type": "code",
   "execution_count": 1,
   "id": "e07088f3",
   "metadata": {},
   "outputs": [
    {
     "name": "stdout",
     "output_type": "stream",
     "text": [
      "2\n",
      "4\n",
      "3\n",
      "4\n",
      "0\n"
     ]
    }
   ],
   "source": [
    "x1= int(input())\n",
    "y1= int(input())\n",
    "x2= int(input())\n",
    "y2= int(input())\n",
    "\n",
    "# area= 2()\n",
    "\n",
    "if x1 < x2 and y1 < y2:\n",
    "    a = x2 - x1\n",
    "    b = y2 - y1\n",
    "else:\n",
    "    a = x1 - x2\n",
    "    b = y1 - y1\n",
    "\n",
    "area = a * b\n",
    "# perimeter = 2 * (a + b)\n",
    "\n",
    "print(area)"
   ]
  },
  {
   "cell_type": "code",
   "execution_count": null,
   "id": "80f141f4",
   "metadata": {},
   "outputs": [],
   "source": []
  }
 ],
 "metadata": {
  "kernelspec": {
   "display_name": "Python 3 (ipykernel)",
   "language": "python",
   "name": "python3"
  },
  "language_info": {
   "codemirror_mode": {
    "name": "ipython",
    "version": 3
   },
   "file_extension": ".py",
   "mimetype": "text/x-python",
   "name": "python",
   "nbconvert_exporter": "python",
   "pygments_lexer": "ipython3",
   "version": "3.9.7"
  }
 },
 "nbformat": 4,
 "nbformat_minor": 5
}
