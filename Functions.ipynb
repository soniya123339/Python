{
 "cells": [
  {
   "cell_type": "markdown",
   "id": "a60233ca",
   "metadata": {},
   "source": [
    "###### "
   ]
  },
  {
   "cell_type": "code",
   "execution_count": 13,
   "id": "7e0a5baa",
   "metadata": {},
   "outputs": [],
   "source": [
    "# synatx of function \n",
    "# def funct name (no of inputs):\n",
    "#     -----\n",
    "#     return\n",
    "\n",
    "def fact(n):\n",
    "    n_fact=1\n",
    "    for i in range(1, n+1):\n",
    "        n_fact=n_fact*i\n",
    "    return n_fact   "
   ]
  },
  {
   "cell_type": "code",
   "execution_count": 16,
   "id": "6b9722c0",
   "metadata": {},
   "outputs": [
    {
     "data": {
      "text/plain": [
       "24"
      ]
     },
     "execution_count": 16,
     "metadata": {},
     "output_type": "execute_result"
    }
   ],
   "source": [
    "a=fact(4)\n",
    "a"
   ]
  },
  {
   "cell_type": "code",
   "execution_count": 17,
   "id": "d08adf30",
   "metadata": {},
   "outputs": [
    {
     "name": "stdout",
     "output_type": "stream",
     "text": [
      "4\n",
      "2\n",
      "6\n"
     ]
    }
   ],
   "source": [
    "# using function withfactorialprogramme\n",
    "\n",
    "n= int(input())\n",
    "r= int(input())\n",
    "n_fact= fact(n)\n",
    "r_fact= fact(r)\n",
    "n_r_fact= fact(n-r)\n",
    "ans= n_fact//(r_fact*n_r_fact)\n",
    "print(ans)\n"
   ]
  },
  {
   "cell_type": "code",
   "execution_count": 15,
   "id": "36a89b13",
   "metadata": {},
   "outputs": [
    {
     "name": "stdout",
     "output_type": "stream",
     "text": [
      "4\n",
      "2\n",
      "144\n"
     ]
    }
   ],
   "source": [
    "# simple factorial programme\n",
    "\n",
    "n= int(input())\n",
    "r= int(input())\n",
    "\n",
    "n_fact=1\n",
    "for i in range(1, n+1):\n",
    "    n_fact=n_fact*i\n",
    "    \n",
    "r_fact=1\n",
    "for i in range(1, r+1):\n",
    "    r_fact=r_fact*i  \n",
    "    \n",
    "n_r_fact=1\n",
    "for i in range(1, n-r+1):\n",
    "    n_r_fact=n_r_fact*i  \n",
    "    \n",
    "ans= n_fact//(r_fact*n_r_fact)  \n",
    "print(ans)"
   ]
  },
  {
   "cell_type": "code",
   "execution_count": 22,
   "id": "0a631f8b",
   "metadata": {},
   "outputs": [],
   "source": [
    "# More example of functions\n",
    "# check no is prime or not\n",
    "\n",
    "def isPrime(n):\n",
    "    for i in range(2,n):\n",
    "        if n%i==0:\n",
    "            break\n",
    "    else:\n",
    "        return True\n",
    "            \n",
    "    return False        "
   ]
  },
  {
   "cell_type": "code",
   "execution_count": 23,
   "id": "1d2337a4",
   "metadata": {},
   "outputs": [
    {
     "data": {
      "text/plain": [
       "True"
      ]
     },
     "execution_count": 23,
     "metadata": {},
     "output_type": "execute_result"
    }
   ],
   "source": [
    "isPrime(17)"
   ]
  },
  {
   "cell_type": "code",
   "execution_count": 24,
   "id": "0e20158f",
   "metadata": {},
   "outputs": [],
   "source": [
    "# for print the all prime numbers so we don't use return in the end .we use only print.\n",
    "\n",
    "def isPrimeFrom2toN(n):\n",
    "    for i in range(2, n+1):\n",
    "        #         check if i is prime and in case it is prime we print k\n",
    "        is_i_prime=isPrime(i)\n",
    "        if (is_i_prime):\n",
    "            print(i)\n"
   ]
  },
  {
   "cell_type": "code",
   "execution_count": 25,
   "id": "cdb940c0",
   "metadata": {},
   "outputs": [
    {
     "name": "stdout",
     "output_type": "stream",
     "text": [
      "2\n",
      "3\n",
      "5\n",
      "7\n",
      "11\n",
      "13\n",
      "17\n",
      "19\n"
     ]
    }
   ],
   "source": [
    "isPrimeFrom2toN(20)"
   ]
  },
  {
   "cell_type": "code",
   "execution_count": 28,
   "id": "a916ae7b",
   "metadata": {},
   "outputs": [],
   "source": [
    "# fact ncr programme using function. (two input-n,r)\n",
    "\n",
    "def ncr(n,r):\n",
    "    n= int(input())\n",
    "    r= int(input())\n",
    "    n_fact= fact(n)\n",
    "    r_fact= fact(r)\n",
    "    n_r_fact= fact(n-r)\n",
    "    ans= n_fact//(r_fact*n_r_fact)\n",
    "    return ans"
   ]
  },
  {
   "cell_type": "code",
   "execution_count": 30,
   "id": "54935cd5",
   "metadata": {},
   "outputs": [
    {
     "name": "stdout",
     "output_type": "stream",
     "text": [
      "5\n",
      "2\n"
     ]
    },
    {
     "data": {
      "text/plain": [
       "10"
      ]
     },
     "execution_count": 30,
     "metadata": {},
     "output_type": "execute_result"
    }
   ],
   "source": [
    "ncr(5, 2)"
   ]
  },
  {
   "cell_type": "code",
   "execution_count": 32,
   "id": "3381e391",
   "metadata": {},
   "outputs": [
    {
     "name": "stdout",
     "output_type": "stream",
     "text": [
      "16\n"
     ]
    }
   ],
   "source": [
    "def square(a):\n",
    "    ans  = a*a\n",
    "    return  ans\n",
    "\n",
    "a = 4\n",
    "a = square(a)\n",
    "print(a)"
   ]
  },
  {
   "cell_type": "code",
   "execution_count": null,
   "id": "2d001051",
   "metadata": {},
   "outputs": [],
   "source": []
  }
 ],
 "metadata": {
  "kernelspec": {
   "display_name": "Python 3 (ipykernel)",
   "language": "python",
   "name": "python3"
  },
  "language_info": {
   "codemirror_mode": {
    "name": "ipython",
    "version": 3
   },
   "file_extension": ".py",
   "mimetype": "text/x-python",
   "name": "python",
   "nbconvert_exporter": "python",
   "pygments_lexer": "ipython3",
   "version": "3.9.7"
  }
 },
 "nbformat": 4,
 "nbformat_minor": 5
}
