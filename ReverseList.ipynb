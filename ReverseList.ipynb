{
 "cells": [
  {
   "cell_type": "markdown",
   "id": "31eb5640",
   "metadata": {},
   "source": [
    "### Reverse the list using function & different ways"
   ]
  },
  {
   "cell_type": "code",
   "execution_count": 3,
   "id": "48defac1",
   "metadata": {},
   "outputs": [
    {
     "name": "stdout",
     "output_type": "stream",
     "text": [
      "[6, 5, 4, 3, 2, 1]\n"
     ]
    }
   ],
   "source": [
    "def reverse_l(li):\n",
    "#     taking the lenght\n",
    "    length= len(li)\n",
    "    for i in range(length//2):\n",
    "        ## taking the median for lenght of list\n",
    "#         now swap the values\n",
    "         li[i],li[length-i-1]= li[length-i-1], li[i]\n",
    "#          (lenght-i-1) means list will print the last eleemnt\n",
    "    \n",
    "li=[1,2,3,4,5,6]\n",
    "reverse_l(li)\n",
    "print(li)"
   ]
  },
  {
   "cell_type": "code",
   "execution_count": 5,
   "id": "d8cf0cec",
   "metadata": {},
   "outputs": [
    {
     "name": "stdout",
     "output_type": "stream",
     "text": [
      "[6, 5, 4, 3, 2, 1]\n"
     ]
    }
   ],
   "source": [
    "# Now using the negative index [-1,-2..] to print the reverse list\n",
    "\n",
    "def reverse_l2(li):\n",
    "#     taking the lenght\n",
    "    length= len(li)\n",
    "    for i in range(length//2):\n",
    "#         using reverse or negative index: -i-1\n",
    "        li[i],li[-i-1]= li[-i-1], li[i]\n",
    "        \n",
    "li=[1,2,3,4,5,6]\n",
    "reverse_l2(li)\n",
    "print(li)"
   ]
  },
  {
   "cell_type": "markdown",
   "id": "c1011b2c",
   "metadata": {},
   "source": [
    "### Reverse list using slicing & sequencing"
   ]
  },
  {
   "cell_type": "code",
   "execution_count": 6,
   "id": "6310336b",
   "metadata": {},
   "outputs": [
    {
     "data": {
      "text/plain": [
       "[6, 5, 4, 3, 2, 1]"
      ]
     },
     "execution_count": 6,
     "metadata": {},
     "output_type": "execute_result"
    }
   ],
   "source": [
    "li"
   ]
  },
  {
   "cell_type": "code",
   "execution_count": 8,
   "id": "3da2933c",
   "metadata": {},
   "outputs": [
    {
     "data": {
      "text/plain": [
       "[1, 2, 3, 4, 5, 6]"
      ]
     },
     "execution_count": 8,
     "metadata": {},
     "output_type": "execute_result"
    }
   ],
   "source": [
    "li[::-1]"
   ]
  },
  {
   "cell_type": "markdown",
   "id": "e538c13f",
   "metadata": {},
   "source": [
    "Else by breaking into parts for more clearity"
   ]
  },
  {
   "cell_type": "code",
   "execution_count": 9,
   "id": "d7339724",
   "metadata": {},
   "outputs": [],
   "source": [
    "li= [1,2,3,4,5,6]"
   ]
  },
  {
   "cell_type": "code",
   "execution_count": 10,
   "id": "63d30d42",
   "metadata": {},
   "outputs": [
    {
     "data": {
      "text/plain": [
       "[1, 2, 3, 4, 5, 6]"
      ]
     },
     "execution_count": 10,
     "metadata": {},
     "output_type": "execute_result"
    }
   ],
   "source": [
    "li"
   ]
  },
  {
   "cell_type": "code",
   "execution_count": 11,
   "id": "5fd86b0b",
   "metadata": {},
   "outputs": [
    {
     "data": {
      "text/plain": [
       "[4, 5]"
      ]
     },
     "execution_count": 11,
     "metadata": {},
     "output_type": "execute_result"
    }
   ],
   "source": [
    "li[3:5]"
   ]
  },
  {
   "cell_type": "code",
   "execution_count": 12,
   "id": "b9e0fd90",
   "metadata": {},
   "outputs": [
    {
     "data": {
      "text/plain": [
       "[4, 5, 6]"
      ]
     },
     "execution_count": 12,
     "metadata": {},
     "output_type": "execute_result"
    }
   ],
   "source": [
    "li[3::]"
   ]
  },
  {
   "cell_type": "code",
   "execution_count": 13,
   "id": "0e98344b",
   "metadata": {},
   "outputs": [
    {
     "data": {
      "text/plain": [
       "[1, 2, 3, 4, 5, 6]"
      ]
     },
     "execution_count": 13,
     "metadata": {},
     "output_type": "execute_result"
    }
   ],
   "source": [
    "li[::]"
   ]
  },
  {
   "cell_type": "code",
   "execution_count": 14,
   "id": "86c31056",
   "metadata": {},
   "outputs": [
    {
     "data": {
      "text/plain": [
       "[6, 5, 4, 3, 2, 1]"
      ]
     },
     "execution_count": 14,
     "metadata": {},
     "output_type": "execute_result"
    }
   ],
   "source": [
    "li[::-1]"
   ]
  },
  {
   "cell_type": "code",
   "execution_count": null,
   "id": "afbe9c26",
   "metadata": {},
   "outputs": [],
   "source": []
  }
 ],
 "metadata": {
  "kernelspec": {
   "display_name": "Python 3 (ipykernel)",
   "language": "python",
   "name": "python3"
  },
  "language_info": {
   "codemirror_mode": {
    "name": "ipython",
    "version": 3
   },
   "file_extension": ".py",
   "mimetype": "text/x-python",
   "name": "python",
   "nbconvert_exporter": "python",
   "pygments_lexer": "ipython3",
   "version": "3.9.7"
  }
 },
 "nbformat": 4,
 "nbformat_minor": 5
}
