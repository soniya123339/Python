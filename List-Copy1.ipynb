{
 "cells": [
  {
   "cell_type": "markdown",
   "id": "5cea07cd",
   "metadata": {},
   "source": [
    "Create a list"
   ]
  },
  {
   "cell_type": "code",
   "execution_count": null,
   "id": "face1612",
   "metadata": {},
   "outputs": [],
   "source": [
    "# empty list\n",
    "\n",
    "l= []\n"
   ]
  },
  {
   "cell_type": "code",
   "execution_count": null,
   "id": "f34b9173",
   "metadata": {},
   "outputs": [],
   "source": [
    "l= [1,2,3]"
   ]
  },
  {
   "cell_type": "code",
   "execution_count": null,
   "id": "76a24db9",
   "metadata": {},
   "outputs": [],
   "source": [
    "# hetrogenous list(diff type of data)\n",
    "l=[1,2,\"soniya\",4.1]"
   ]
  },
  {
   "cell_type": "markdown",
   "id": "eeacc696",
   "metadata": {},
   "source": [
    "Acess the list elements"
   ]
  },
  {
   "cell_type": "code",
   "execution_count": null,
   "id": "5dd5eebc",
   "metadata": {},
   "outputs": [],
   "source": [
    "l= [1,2,3,\"soniya\",4.2]"
   ]
  },
  {
   "cell_type": "code",
   "execution_count": null,
   "id": "54ca5810",
   "metadata": {},
   "outputs": [],
   "source": [
    "# index\n",
    "\n",
    "l[2]\n",
    "l[3]"
   ]
  },
  {
   "cell_type": "code",
   "execution_count": null,
   "id": "3ec6ad7d",
   "metadata": {},
   "outputs": [],
   "source": [
    "# update a list\n",
    "l= [1,2,3,\"soniya\",4.2]\n",
    "# l[2]=\"kori\"\n"
   ]
  },
  {
   "cell_type": "code",
   "execution_count": null,
   "id": "f5f3e414",
   "metadata": {},
   "outputs": [],
   "source": [
    "print(\"soniya\")"
   ]
  },
  {
   "cell_type": "code",
   "execution_count": null,
   "id": "16bead7d",
   "metadata": {},
   "outputs": [],
   "source": [
    "li=[2,3,4.3,\"soniya\"]\n",
    "print(li)"
   ]
  },
  {
   "cell_type": "code",
   "execution_count": null,
   "id": "a03c5833",
   "metadata": {},
   "outputs": [],
   "source": [
    "li[2]=\"kori\"\n",
    "print(li)"
   ]
  },
  {
   "cell_type": "markdown",
   "id": "2c1e23bf",
   "metadata": {},
   "source": [
    "### slicing in list"
   ]
  },
  {
   "cell_type": "code",
   "execution_count": null,
   "id": "875e6e8c",
   "metadata": {},
   "outputs": [],
   "source": [
    "li[1:3]\n",
    "# it will printing from start index to n-1 index"
   ]
  },
  {
   "cell_type": "code",
   "execution_count": null,
   "id": "e8389be3",
   "metadata": {},
   "outputs": [],
   "source": [
    "li[1:]"
   ]
  },
  {
   "cell_type": "code",
   "execution_count": null,
   "id": "7684ed95",
   "metadata": {},
   "outputs": [],
   "source": [
    "li[1:10]\n",
    "\n",
    "# it ignore the index if index value han not in it."
   ]
  },
  {
   "cell_type": "code",
   "execution_count": null,
   "id": "b27d4016",
   "metadata": {},
   "outputs": [],
   "source": [
    "li[:]\n",
    "# print the wholelist"
   ]
  },
  {
   "cell_type": "markdown",
   "id": "e6ab2bc2",
   "metadata": {},
   "source": [
    "### Insert and append in list"
   ]
  },
  {
   "cell_type": "markdown",
   "id": "5380cc55",
   "metadata": {},
   "source": [
    "list.append(arg)= it add the element in the end of the list\n",
    "list.insert(index no,arg)= it add the element in the specific index"
   ]
  },
  {
   "cell_type": "code",
   "execution_count": null,
   "id": "069e252e",
   "metadata": {},
   "outputs": [],
   "source": [
    "li.append(\"java\")\n",
    "print(li)"
   ]
  },
  {
   "cell_type": "code",
   "execution_count": null,
   "id": "d0c9490f",
   "metadata": {},
   "outputs": [],
   "source": [
    "li.insert(3,100)\n",
    "print(li)"
   ]
  },
  {
   "cell_type": "code",
   "execution_count": null,
   "id": "c6b62bcb",
   "metadata": {},
   "outputs": [],
   "source": [
    "# if we add the elemnet on index, which is not presennt in the list. so it will add automatically in the end of the list\n",
    "\n",
    "li.insert(10,34)\n",
    "print(li)"
   ]
  },
  {
   "cell_type": "code",
   "execution_count": null,
   "id": "7d9b816d",
   "metadata": {},
   "outputs": [],
   "source": [
    "li.append([2,3,4])\n",
    "print(li)\n",
    "\n",
    "# if we want to add multiple element in the list with append method so it will create a list in the existing list.\n",
    "# for removing this list and add the multiple element at same time we used extend method"
   ]
  },
  {
   "cell_type": "code",
   "execution_count": 5,
   "id": "149a0146",
   "metadata": {},
   "outputs": [
    {
     "name": "stdout",
     "output_type": "stream",
     "text": [
      "[1, 2, 3, 'soniya', 4.2, [2, 3, 4], 2, 3, 4]\n"
     ]
    }
   ],
   "source": [
    "li= [1,2,3,\"soniya\",4.2]\n",
    "li.append([2,3,4])\n",
    "li.extend([2,3,4])\n",
    "print(li)"
   ]
  },
  {
   "cell_type": "markdown",
   "id": "e10d7ec6",
   "metadata": {},
   "source": [
    "### For removeing the element in the list, we use remove & pop function\n",
    "\n",
    "li.remove(arg)= remove the specific element in the list.\n",
    "li.pop()= remove the automaticaly last element on the list.\n",
    "li.pop(arg)= remove the specific element in the list"
   ]
  },
  {
   "cell_type": "code",
   "execution_count": 7,
   "id": "e4a0d108",
   "metadata": {},
   "outputs": [
    {
     "name": "stdout",
     "output_type": "stream",
     "text": [
      "[1, 2, 'soniya', 4.2, [2, 3, 4], 2, 4]\n"
     ]
    }
   ],
   "source": [
    "li.remove(3)\n",
    "print(li)"
   ]
  },
  {
   "cell_type": "code",
   "execution_count": 8,
   "id": "25614eb8",
   "metadata": {},
   "outputs": [
    {
     "name": "stdout",
     "output_type": "stream",
     "text": [
      "[1, 2, 'soniya', 4.2, [2, 3, 4], 2, 4, 2]\n"
     ]
    }
   ],
   "source": [
    "# if we duplicate element in the list so remove method remove the fisrt element in the list\n",
    "li.append(2)\n",
    "print(li)"
   ]
  },
  {
   "cell_type": "code",
   "execution_count": 13,
   "id": "bc57a010",
   "metadata": {},
   "outputs": [
    {
     "name": "stdout",
     "output_type": "stream",
     "text": [
      "[1, 'soniya', 4.2, [2, 3, 4], 2, 4, 2]\n"
     ]
    }
   ],
   "source": [
    "li=[1, 2, 'soniya', 4.2, [2, 3, 4], 2, 4, 2]\n",
    "li.remove(2)\n",
    "print(li)"
   ]
  },
  {
   "cell_type": "code",
   "execution_count": 14,
   "id": "fa4e19b7",
   "metadata": {},
   "outputs": [],
   "source": [
    "# pop"
   ]
  },
  {
   "cell_type": "code",
   "execution_count": 15,
   "id": "6eae0ecd",
   "metadata": {},
   "outputs": [
    {
     "data": {
      "text/plain": [
       "2"
      ]
     },
     "execution_count": 15,
     "metadata": {},
     "output_type": "execute_result"
    }
   ],
   "source": [
    "li.pop()  # pop the last element in the lists"
   ]
  },
  {
   "cell_type": "code",
   "execution_count": 17,
   "id": "05cf27bd",
   "metadata": {},
   "outputs": [
    {
     "data": {
      "text/plain": [
       "4.2"
      ]
     },
     "execution_count": 17,
     "metadata": {},
     "output_type": "execute_result"
    }
   ],
   "source": [
    "li.pop(2) 3 pop the specific index element of the list."
   ]
  },
  {
   "cell_type": "code",
   "execution_count": 19,
   "id": "a271cc76",
   "metadata": {},
   "outputs": [
    {
     "name": "stdout",
     "output_type": "stream",
     "text": [
      "['abcd', 'def', 5]\n"
     ]
    }
   ],
   "source": [
    "li =['abcd','def']\n",
    "li.insert(4,5)\n",
    "print(li)"
   ]
  },
  {
   "cell_type": "markdown",
   "id": "bbc49209",
   "metadata": {},
   "source": [
    "### Accesing the list by loop or dofferent ways."
   ]
  },
  {
   "cell_type": "code",
   "execution_count": 4,
   "id": "dd94e2ea",
   "metadata": {},
   "outputs": [
    {
     "name": "stdout",
     "output_type": "stream",
     "text": [
      "[2, 3, 'python', 3.3, 'java', 9, 10]\n"
     ]
    }
   ],
   "source": [
    "# create a list\n",
    "li= [2,3,\"python\",3.3,\"java\",9,10]\n",
    "print(li)"
   ]
  },
  {
   "cell_type": "code",
   "execution_count": 10,
   "id": "0db7612e",
   "metadata": {},
   "outputs": [
    {
     "name": "stdout",
     "output_type": "stream",
     "text": [
      "2\n",
      "3\n",
      "python\n",
      "3.3\n",
      "java\n",
      "9\n",
      "10\n"
     ]
    }
   ],
   "source": [
    "# use for loop with range func\n",
    "\n",
    "for i in range(len(li)):\n",
    "    print(li[i])"
   ]
  },
  {
   "cell_type": "code",
   "execution_count": 12,
   "id": "f629dafd",
   "metadata": {},
   "outputs": [
    {
     "name": "stdout",
     "output_type": "stream",
     "text": [
      "2\n",
      "3\n",
      "python\n",
      "3.3\n",
      "java\n",
      "9\n",
      "10\n"
     ]
    }
   ],
   "source": [
    "for i in range(0,len(li)):\n",
    "    print(li[i])"
   ]
  },
  {
   "cell_type": "code",
   "execution_count": 14,
   "id": "11c913e2",
   "metadata": {},
   "outputs": [
    {
     "name": "stdout",
     "output_type": "stream",
     "text": [
      "python\n",
      "3.3\n",
      "java\n",
      "9\n",
      "10\n"
     ]
    }
   ],
   "source": [
    "for i in range(2,len(li)):\n",
    "    print(li[i])"
   ]
  },
  {
   "cell_type": "code",
   "execution_count": 15,
   "id": "26db76d9",
   "metadata": {},
   "outputs": [
    {
     "name": "stdout",
     "output_type": "stream",
     "text": [
      "2\n",
      "3\n",
      "python\n",
      "3.3\n",
      "java\n",
      "9\n",
      "10\n"
     ]
    }
   ],
   "source": [
    "# use the ele(for element )-it will print all the eleemnts.\n",
    "\n",
    "for ele in li:\n",
    "    print(ele)"
   ]
  },
  {
   "cell_type": "markdown",
   "id": "2574a966",
   "metadata": {},
   "source": [
    "If programme need an index , we will use for loop to access the elemeent in list.\n",
    "If programme don't need an index ,we will use ele funct."
   ]
  },
  {
   "cell_type": "markdown",
   "id": "887d17d4",
   "metadata": {},
   "source": [
    "### using slicing"
   ]
  },
  {
   "cell_type": "code",
   "execution_count": 18,
   "id": "d1815428",
   "metadata": {},
   "outputs": [
    {
     "name": "stdout",
     "output_type": "stream",
     "text": [
      "python\n",
      "3.3\n",
      "java\n",
      "9\n",
      "10\n"
     ]
    }
   ],
   "source": [
    "for ele in li[2:]:\n",
    "    print(ele)"
   ]
  },
  {
   "cell_type": "code",
   "execution_count": 19,
   "id": "d6f9f84d",
   "metadata": {},
   "outputs": [
    {
     "name": "stdout",
     "output_type": "stream",
     "text": [
      "python\n"
     ]
    }
   ],
   "source": [
    "for ele in li[2:3]:\n",
    "    print(ele)"
   ]
  },
  {
   "cell_type": "code",
   "execution_count": null,
   "id": "81c32949",
   "metadata": {},
   "outputs": [],
   "source": []
  }
 ],
 "metadata": {
  "kernelspec": {
   "display_name": "Python 3 (ipykernel)",
   "language": "python",
   "name": "python3"
  },
  "language_info": {
   "codemirror_mode": {
    "name": "ipython",
    "version": 3
   },
   "file_extension": ".py",
   "mimetype": "text/x-python",
   "name": "python",
   "nbconvert_exporter": "python",
   "pygments_lexer": "ipython3",
   "version": "3.9.7"
  }
 },
 "nbformat": 4,
 "nbformat_minor": 5
}
