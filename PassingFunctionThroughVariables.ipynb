{
 "cells": [
  {
   "cell_type": "code",
   "execution_count": 4,
   "id": "560f8603",
   "metadata": {},
   "outputs": [
    {
     "name": "stdout",
     "output_type": "stream",
     "text": [
      "2\n"
     ]
    }
   ],
   "source": [
    "# Here, a=2 in main func & increment will perform in increment_main func. That's why written here 2\n",
    "\n",
    "def increment(a):\n",
    "    a=a+2\n",
    "    return a\n",
    "\n",
    "a=2\n",
    "increment(a) \n",
    "print(a)"
   ]
  },
  {
   "cell_type": "code",
   "execution_count": 3,
   "id": "9cc940db",
   "metadata": {},
   "outputs": [
    {
     "name": "stdout",
     "output_type": "stream",
     "text": [
      "4\n"
     ]
    }
   ],
   "source": [
    "# Here, a=2 in main func & increment will perform in increment_main func. after that a=increment(a),stored in a_main func\n",
    "# that's why written here 4\n",
    "\n",
    "def increment(a):\n",
    "    a=a+2\n",
    "    return a\n",
    "\n",
    "a=2\n",
    "a=increment(a) \n",
    "print(a)"
   ]
  },
  {
   "cell_type": "code",
   "execution_count": null,
   "id": "9c53566a",
   "metadata": {},
   "outputs": [],
   "source": []
  }
 ],
 "metadata": {
  "kernelspec": {
   "display_name": "Python 3 (ipykernel)",
   "language": "python",
   "name": "python3"
  },
  "language_info": {
   "codemirror_mode": {
    "name": "ipython",
    "version": 3
   },
   "file_extension": ".py",
   "mimetype": "text/x-python",
   "name": "python",
   "nbconvert_exporter": "python",
   "pygments_lexer": "ipython3",
   "version": "3.9.7"
  }
 },
 "nbformat": 4,
 "nbformat_minor": 5
}
