{
 "cells": [
  {
   "cell_type": "code",
   "execution_count": 6,
   "id": "20fea1f8",
   "metadata": {},
   "outputs": [
    {
     "name": "stdout",
     "output_type": "stream",
     "text": [
      "10\n",
      "20\n"
     ]
    }
   ],
   "source": [
    "a1=10 # global variable\n",
    "\n",
    "def f1():\n",
    "    b1=20 # local variable\n",
    "    print(b1)\n",
    "print(a1) \n",
    "f1()\n",
    "\n",
    "# can't print a local variable outside the function print(b1)"
   ]
  },
  {
   "cell_type": "code",
   "execution_count": 7,
   "id": "0f6a7420",
   "metadata": {},
   "outputs": [
    {
     "name": "stdout",
     "output_type": "stream",
     "text": [
      "10\n",
      "20\n",
      "20\n"
     ]
    }
   ],
   "source": [
    "a2=10 # global variable\n",
    "\n",
    "def f2():\n",
    "    b2=20 # local variable\n",
    "    print(b2)\n",
    "    print(b2)\n",
    "print(a2) # first print this then func F2() print\n",
    "f2()"
   ]
  },
  {
   "cell_type": "code",
   "execution_count": 9,
   "id": "b347dd95",
   "metadata": {},
   "outputs": [
    {
     "name": "stdout",
     "output_type": "stream",
     "text": [
      "10\n",
      "20\n",
      "20\n"
     ]
    }
   ],
   "source": [
    "# you can access any global variable defined before the function call.\n",
    "\n",
    "# a1=10 # global variable\n",
    "\n",
    "def f3():\n",
    "    b3=20 # local variable\n",
    "    print(b3)\n",
    "    print(c3)\n",
    "    \n",
    "a3=10    \n",
    "print(a3) \n",
    "c3=20\n",
    "f3()\n",
    "\n"
   ]
  },
  {
   "cell_type": "code",
   "execution_count": 11,
   "id": "eae46b1a",
   "metadata": {},
   "outputs": [
    {
     "name": "stdout",
     "output_type": "stream",
     "text": [
      "13\n",
      "12\n",
      "417065626256\n",
      "12\n",
      "417065626256\n"
     ]
    }
   ],
   "source": [
    "a4= 13\n",
    "def f4():\n",
    "    global a4\n",
    "    a4=12\n",
    "    print(a4)\n",
    "    print(id(a4))\n",
    "print(a4)\n",
    "f4()\n",
    "print(a4)\n",
    "print(id(a4))\n",
    "\n",
    "# value not cahnge of a4, is still return 13. so we need to specify the gloabaly then it will print the same id & numbre will chnge."
   ]
  },
  {
   "cell_type": "code",
   "execution_count": 16,
   "id": "6c0aaf0c",
   "metadata": {},
   "outputs": [
    {
     "name": "stdout",
     "output_type": "stream",
     "text": [
      "10\n"
     ]
    }
   ],
   "source": [
    "# eg:\n",
    "\n",
    "def f():\n",
    "    b=10\n",
    "    return b\n",
    "# f() it will not print the function value.\n",
    "x=f()\n",
    "print(x)\n",
    "    \n",
    "    "
   ]
  },
  {
   "cell_type": "code",
   "execution_count": null,
   "id": "1c78496b",
   "metadata": {},
   "outputs": [],
   "source": []
  }
 ],
 "metadata": {
  "kernelspec": {
   "display_name": "Python 3 (ipykernel)",
   "language": "python",
   "name": "python3"
  },
  "language_info": {
   "codemirror_mode": {
    "name": "ipython",
    "version": 3
   },
   "file_extension": ".py",
   "mimetype": "text/x-python",
   "name": "python",
   "nbconvert_exporter": "python",
   "pygments_lexer": "ipython3",
   "version": "3.9.7"
  }
 },
 "nbformat": 4,
 "nbformat_minor": 5
}
