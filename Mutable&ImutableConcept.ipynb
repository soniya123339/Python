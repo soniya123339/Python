{
 "cells": [
  {
   "cell_type": "markdown",
   "id": "e5612ad8",
   "metadata": {},
   "source": [
    "### ImMutable"
   ]
  },
  {
   "cell_type": "code",
   "execution_count": 1,
   "id": "50bd99ff",
   "metadata": {},
   "outputs": [
    {
     "name": "stdout",
     "output_type": "stream",
     "text": [
      "3\n"
     ]
    }
   ],
   "source": [
    "# refrence is changed when we update the value of varibale\n",
    "\n",
    "x=3\n",
    "a=3\n",
    "print(x)"
   ]
  },
  {
   "cell_type": "code",
   "execution_count": 2,
   "id": "f1aae43d",
   "metadata": {},
   "outputs": [
    {
     "data": {
      "text/plain": [
       "898885511536"
      ]
     },
     "execution_count": 2,
     "metadata": {},
     "output_type": "execute_result"
    }
   ],
   "source": [
    "id(a)\n"
   ]
  },
  {
   "cell_type": "code",
   "execution_count": 3,
   "id": "25c5697b",
   "metadata": {},
   "outputs": [
    {
     "data": {
      "text/plain": [
       "898885511536"
      ]
     },
     "execution_count": 3,
     "metadata": {},
     "output_type": "execute_result"
    }
   ],
   "source": [
    "id(x)"
   ]
  },
  {
   "cell_type": "code",
   "execution_count": 4,
   "id": "a9810f3e",
   "metadata": {},
   "outputs": [
    {
     "data": {
      "text/plain": [
       "898885511568"
      ]
     },
     "execution_count": 4,
     "metadata": {},
     "output_type": "execute_result"
    }
   ],
   "source": [
    "a=4 # when we udate value then it also update id or reference\n",
    "id(a)"
   ]
  },
  {
   "cell_type": "markdown",
   "id": "c7836a05",
   "metadata": {},
   "source": [
    "### Mutable"
   ]
  },
  {
   "cell_type": "code",
   "execution_count": 5,
   "id": "416cfb67",
   "metadata": {},
   "outputs": [],
   "source": [
    "li=[1,2,3,4]\n",
    "li2=li\n",
    "li2=[3,3,4]\n",
    "li2[1]=4"
   ]
  },
  {
   "cell_type": "code",
   "execution_count": 6,
   "id": "969abec9",
   "metadata": {},
   "outputs": [
    {
     "name": "stdout",
     "output_type": "stream",
     "text": [
      "[1, 2, 3, 4]\n",
      "[3, 4, 4]\n"
     ]
    }
   ],
   "source": [
    "print(li)\n",
    "print(li2)"
   ]
  },
  {
   "cell_type": "code",
   "execution_count": 7,
   "id": "e675b9c0",
   "metadata": {},
   "outputs": [
    {
     "name": "stdout",
     "output_type": "stream",
     "text": [
      "898968681792\n",
      "898996474880\n"
     ]
    }
   ],
   "source": [
    "print(id(li))\n",
    "print(id(li2))"
   ]
  },
  {
   "cell_type": "code",
   "execution_count": null,
   "id": "2755855e",
   "metadata": {},
   "outputs": [],
   "source": [
    "# so the referenec is changed when we update the list"
   ]
  }
 ],
 "metadata": {
  "kernelspec": {
   "display_name": "Python 3 (ipykernel)",
   "language": "python",
   "name": "python3"
  },
  "language_info": {
   "codemirror_mode": {
    "name": "ipython",
    "version": 3
   },
   "file_extension": ".py",
   "mimetype": "text/x-python",
   "name": "python",
   "nbconvert_exporter": "python",
   "pygments_lexer": "ipython3",
   "version": "3.9.7"
  }
 },
 "nbformat": 4,
 "nbformat_minor": 5
}
