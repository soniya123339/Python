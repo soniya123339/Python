{
 "cells": [
  {
   "cell_type": "code",
   "execution_count": 5,
   "id": "8c57a679",
   "metadata": {},
   "outputs": [
    {
     "name": "stdout",
     "output_type": "stream",
     "text": [
      "1990\n",
      "False\n"
     ]
    }
   ],
   "source": [
    "# leap year\n",
    "\n",
    "def is_leap(year):\n",
    "    leap = False\n",
    "    if (year% 400==0 or year%4==0):\n",
    "        return True\n",
    "    else:\n",
    "        return False\n",
    "\n",
    "year = int(input())\n",
    "print(is_leap(year))"
   ]
  },
  {
   "cell_type": "code",
   "execution_count": 7,
   "id": "811fbe97",
   "metadata": {},
   "outputs": [
    {
     "name": "stdout",
     "output_type": "stream",
     "text": [
      "6\n",
      "2\n",
      "3\n",
      "4\n",
      "5\n",
      "6\n",
      "7\n"
     ]
    }
   ],
   "source": [
    "n= int(input())\n",
    "i=1\n",
    "even=True\n",
    "while(i<=n):\n",
    "    if(n%2==0):\n",
    "        i=i+1\n",
    "    print(i)\n"
   ]
  },
  {
   "cell_type": "code",
   "execution_count": 45,
   "id": "9bf54bad",
   "metadata": {},
   "outputs": [
    {
     "name": "stdout",
     "output_type": "stream",
     "text": [
      "15\n",
      "1\n",
      "2\n",
      "Fizz\n",
      "4\n",
      "Buzz\n",
      "Fizz\n",
      "7\n",
      "8\n",
      "Fizz\n",
      "Buzz\n",
      "11\n",
      "Fizz\n",
      "13\n",
      "14\n",
      "FizzBuzz\n",
      "None\n"
     ]
    }
   ],
   "source": [
    "def fizzbuzz(n):\n",
    "    for i in range(1,n+1):\n",
    "        if i%3==0 and i%5==0: # 3, 5\n",
    "            print(\"FizzBuzz\")\n",
    "        elif i%3==0 and i%5!= 0: # 3 , not 5\n",
    "            print(\"Fizz\") \n",
    "        elif i%3!=0 and i%5== 0: # 5 but not 3\n",
    "            print(\"Buzz\")\n",
    "        else:\n",
    "            print(i)\n",
    "#     return result    \n",
    "    \n",
    "\n",
    "n= int(input())\n",
    "result=fizzbuzz(n)\n",
    "print(result)\n",
    "           \n",
    "           "
   ]
  },
  {
   "cell_type": "code",
   "execution_count": 46,
   "id": "c54bd695",
   "metadata": {},
   "outputs": [
    {
     "name": "stdout",
     "output_type": "stream",
     "text": [
      "15\n",
      "1\n",
      "2\n",
      "Fizz\n",
      "4\n",
      "Buzz\n",
      "Fizz\n",
      "7\n",
      "8\n",
      "Fizz\n",
      "Buzz\n",
      "11\n",
      "Fizz\n",
      "13\n",
      "14\n",
      "FizzBuzz\n"
     ]
    }
   ],
   "source": [
    "n= int(input())\n",
    "for i in range(1,n+1):\n",
    "  #check if number is divisible by both 3 and 5\n",
    "  if(i%3==0 and i%5==0):\n",
    "    print(\"FizzBuzz\")\n",
    "  #check if number is divisible by 3\n",
    "  elif(i%3 == 0):\n",
    "    print(\"Fizz\")\n",
    "  #check if number is divisible by 5\n",
    "  elif(i%5 == 0):\n",
    "    print(\"Buzz\")\n",
    "  #if not divisible by either of them print the i\n",
    "  else:\n",
    "    print(i)"
   ]
  },
  {
   "cell_type": "code",
   "execution_count": 53,
   "id": "2599c2b3",
   "metadata": {},
   "outputs": [
    {
     "name": "stdout",
     "output_type": "stream",
     "text": [
      "123\n"
     ]
    },
    {
     "ename": "TypeError",
     "evalue": "can only concatenate str (not \"int\") to str",
     "output_type": "error",
     "traceback": [
      "\u001b[1;31m---------------------------------------------------------------------------\u001b[0m",
      "\u001b[1;31mTypeError\u001b[0m                                 Traceback (most recent call last)",
      "\u001b[1;32m~\\AppData\\Local\\Temp/ipykernel_7660/2752363681.py\u001b[0m in \u001b[0;36m<module>\u001b[1;34m\u001b[0m\n\u001b[0;32m     17\u001b[0m \u001b[0marr\u001b[0m \u001b[1;33m=\u001b[0m \u001b[1;33m[\u001b[0m\u001b[1;36m1\u001b[0m\u001b[1;33m,\u001b[0m\u001b[1;36m2\u001b[0m\u001b[1;33m,\u001b[0m\u001b[1;36m3\u001b[0m\u001b[1;33m,\u001b[0m\u001b[1;36m4\u001b[0m\u001b[1;33m,\u001b[0m\u001b[1;36m5\u001b[0m\u001b[1;33m,\u001b[0m\u001b[1;36m6\u001b[0m\u001b[1;33m,\u001b[0m\u001b[1;36m7\u001b[0m\u001b[1;33m,\u001b[0m\u001b[1;36m8\u001b[0m\u001b[1;33m,\u001b[0m\u001b[1;36m9\u001b[0m\u001b[1;33m]\u001b[0m\u001b[1;33m\u001b[0m\u001b[1;33m\u001b[0m\u001b[0m\n\u001b[0;32m     18\u001b[0m \u001b[0mn\u001b[0m \u001b[1;33m=\u001b[0m \u001b[0mint\u001b[0m\u001b[1;33m(\u001b[0m\u001b[0minput\u001b[0m\u001b[1;33m(\u001b[0m\u001b[1;33m)\u001b[0m\u001b[1;33m)\u001b[0m\u001b[1;33m\u001b[0m\u001b[1;33m\u001b[0m\u001b[0m\n\u001b[1;32m---> 19\u001b[1;33m \u001b[0mnumber_2_word\u001b[0m\u001b[1;33m(\u001b[0m\u001b[0mn\u001b[0m\u001b[1;33m)\u001b[0m\u001b[1;33m\u001b[0m\u001b[1;33m\u001b[0m\u001b[0m\n\u001b[0m",
      "\u001b[1;32m~\\AppData\\Local\\Temp/ipykernel_7660/2752363681.py\u001b[0m in \u001b[0;36mnumber_2_word\u001b[1;34m(n)\u001b[0m\n\u001b[0;32m     10\u001b[0m \u001b[1;33m\u001b[0m\u001b[0m\n\u001b[0;32m     11\u001b[0m         \u001b[1;31m# keep computing for the previous digits and add the spelling for the last digit\u001b[0m\u001b[1;33m\u001b[0m\u001b[1;33m\u001b[0m\u001b[0m\n\u001b[1;32m---> 12\u001b[1;33m         \u001b[0mans\u001b[0m \u001b[1;33m=\u001b[0m \u001b[0mnumber_2_word\u001b[0m\u001b[1;33m(\u001b[0m\u001b[0mint\u001b[0m\u001b[1;33m(\u001b[0m\u001b[0mn\u001b[0m\u001b[1;33m/\u001b[0m\u001b[1;36m10\u001b[0m\u001b[1;33m)\u001b[0m\u001b[1;33m)\u001b[0m \u001b[1;33m+\u001b[0m \u001b[0msmall_ans\u001b[0m \u001b[1;33m+\u001b[0m \u001b[1;34m\" \"\u001b[0m\u001b[1;33m\u001b[0m\u001b[1;33m\u001b[0m\u001b[0m\n\u001b[0m\u001b[0;32m     13\u001b[0m \u001b[1;33m\u001b[0m\u001b[0m\n\u001b[0;32m     14\u001b[0m     \u001b[1;31m# Return the final answer\u001b[0m\u001b[1;33m\u001b[0m\u001b[1;33m\u001b[0m\u001b[0m\n",
      "\u001b[1;32m~\\AppData\\Local\\Temp/ipykernel_7660/2752363681.py\u001b[0m in \u001b[0;36mnumber_2_word\u001b[1;34m(n)\u001b[0m\n\u001b[0;32m     10\u001b[0m \u001b[1;33m\u001b[0m\u001b[0m\n\u001b[0;32m     11\u001b[0m         \u001b[1;31m# keep computing for the previous digits and add the spelling for the last digit\u001b[0m\u001b[1;33m\u001b[0m\u001b[1;33m\u001b[0m\u001b[0m\n\u001b[1;32m---> 12\u001b[1;33m         \u001b[0mans\u001b[0m \u001b[1;33m=\u001b[0m \u001b[0mnumber_2_word\u001b[0m\u001b[1;33m(\u001b[0m\u001b[0mint\u001b[0m\u001b[1;33m(\u001b[0m\u001b[0mn\u001b[0m\u001b[1;33m/\u001b[0m\u001b[1;36m10\u001b[0m\u001b[1;33m)\u001b[0m\u001b[1;33m)\u001b[0m \u001b[1;33m+\u001b[0m \u001b[0msmall_ans\u001b[0m \u001b[1;33m+\u001b[0m \u001b[1;34m\" \"\u001b[0m\u001b[1;33m\u001b[0m\u001b[1;33m\u001b[0m\u001b[0m\n\u001b[0m\u001b[0;32m     13\u001b[0m \u001b[1;33m\u001b[0m\u001b[0m\n\u001b[0;32m     14\u001b[0m     \u001b[1;31m# Return the final answer\u001b[0m\u001b[1;33m\u001b[0m\u001b[1;33m\u001b[0m\u001b[0m\n",
      "\u001b[1;32m~\\AppData\\Local\\Temp/ipykernel_7660/2752363681.py\u001b[0m in \u001b[0;36mnumber_2_word\u001b[1;34m(n)\u001b[0m\n\u001b[0;32m     10\u001b[0m \u001b[1;33m\u001b[0m\u001b[0m\n\u001b[0;32m     11\u001b[0m         \u001b[1;31m# keep computing for the previous digits and add the spelling for the last digit\u001b[0m\u001b[1;33m\u001b[0m\u001b[1;33m\u001b[0m\u001b[0m\n\u001b[1;32m---> 12\u001b[1;33m         \u001b[0mans\u001b[0m \u001b[1;33m=\u001b[0m \u001b[0mnumber_2_word\u001b[0m\u001b[1;33m(\u001b[0m\u001b[0mint\u001b[0m\u001b[1;33m(\u001b[0m\u001b[0mn\u001b[0m\u001b[1;33m/\u001b[0m\u001b[1;36m10\u001b[0m\u001b[1;33m)\u001b[0m\u001b[1;33m)\u001b[0m \u001b[1;33m+\u001b[0m \u001b[0msmall_ans\u001b[0m \u001b[1;33m+\u001b[0m \u001b[1;34m\" \"\u001b[0m\u001b[1;33m\u001b[0m\u001b[1;33m\u001b[0m\u001b[0m\n\u001b[0m\u001b[0;32m     13\u001b[0m \u001b[1;33m\u001b[0m\u001b[0m\n\u001b[0;32m     14\u001b[0m     \u001b[1;31m# Return the final answer\u001b[0m\u001b[1;33m\u001b[0m\u001b[1;33m\u001b[0m\u001b[0m\n",
      "\u001b[1;31mTypeError\u001b[0m: can only concatenate str (not \"int\") to str"
     ]
    }
   ],
   "source": [
    "def number_2_word(n):\n",
    " \n",
    "    # If all the digits are encountered return blank string\n",
    "    if(n==0):\n",
    "        return \"\"\n",
    "     \n",
    "    else:\n",
    "        # compute spelling for the last digit\n",
    "        small_ans = arr[n%10]\n",
    " \n",
    "        # keep computing for the previous digits and add the spelling for the last digit\n",
    "        ans = number_2_word(int(n/10)) + small_ans + \" \"\n",
    "     \n",
    "    # Return the final answer\n",
    "    return ans\n",
    " \n",
    "arr = [1,2,3,4,5,6,7,8,9]    \n",
    "n = int(input())\n",
    "number_2_word(n)"
   ]
  },
  {
   "cell_type": "code",
   "execution_count": 51,
   "id": "52d6557d",
   "metadata": {},
   "outputs": [
    {
     "name": "stdout",
     "output_type": "stream",
     "text": [
      "4\n"
     ]
    }
   ],
   "source": [
    "s=input()"
   ]
  },
  {
   "cell_type": "code",
   "execution_count": 52,
   "id": "fdd38433",
   "metadata": {},
   "outputs": [
    {
     "data": {
      "text/plain": [
       "str"
      ]
     },
     "execution_count": 52,
     "metadata": {},
     "output_type": "execute_result"
    }
   ],
   "source": [
    "type(s)"
   ]
  },
  {
   "cell_type": "code",
   "execution_count": 54,
   "id": "3a91c173",
   "metadata": {},
   "outputs": [
    {
     "ename": "IndentationError",
     "evalue": "expected an indented block (Temp/ipykernel_7660/222050096.py, line 5)",
     "output_type": "error",
     "traceback": [
      "\u001b[1;36m  File \u001b[1;32m\"C:\\Users\\soniya\\AppData\\Local\\Temp/ipykernel_7660/222050096.py\"\u001b[1;36m, line \u001b[1;32m5\u001b[0m\n\u001b[1;33m    \u001b[0m\n\u001b[1;37m    ^\u001b[0m\n\u001b[1;31mIndentationError\u001b[0m\u001b[1;31m:\u001b[0m expected an indented block\n"
     ]
    }
   ],
   "source": [
    "s= {\"zero\":0,\"one\":1, \"two\": 2, \"three\":3,\"four\":4,\"five\":5,\"six\":6,\"seven\":7,\"eight\":8,\"none\":9}\n",
    "res= \"\"\n",
    "\n",
    "for i in s.keys():\n",
    "    "
   ]
  },
  {
   "cell_type": "code",
   "execution_count": 59,
   "id": "b0f2cfbc",
   "metadata": {},
   "outputs": [
    {
     "name": "stdout",
     "output_type": "stream",
     "text": [
      "one four three\n",
      "143\n"
     ]
    }
   ],
   "source": [
    "s = {\n",
    "    'one': '1',\n",
    "    'two': '2',\n",
    "    'three': '3',\n",
    "    'four': '4',\n",
    "    'five': '5',\n",
    "    'six': '6',\n",
    "    'seven': '7',\n",
    "    'eight': '8',\n",
    "    'nine': '9',\n",
    "    'zero' : '0'\n",
    "}\n",
    "  \n",
    "# initializing string\n",
    "test_str = input()\n",
    "  \n",
    "\n",
    "res = ''.join(s[ele] for ele in test_str.split())\n",
    "\n",
    "# printing result \n",
    "print(res) \n",
    "  "
   ]
  },
  {
   "cell_type": "code",
   "execution_count": 1,
   "id": "812e2215",
   "metadata": {},
   "outputs": [
    {
     "name": "stdout",
     "output_type": "stream",
     "text": [
      "one two four five\n",
      "1245\n"
     ]
    }
   ],
   "source": [
    "s= {\"zero\":'0',\"one\":'1', \"two\": '2', \"three\":'3',\"four\":'4',\"five\":'5',\"six\":'6',\"seven\":'7',\"eight\":'8',\"nine\":'9'}\n",
    "# s.add(\"double\":'{\"zero\":'0',\"one\":'1', \"two\": '2', \"three\":'3',\"four\":'4',\"five\":'5',\"six\":'6',\"seven\":'7',\"eight\":'8',\"nine\":'9',\n",
    "#     \"double\":'3'}')\n",
    "\n",
    "s[\"double\"]={\"zero\":'0',\"one\":'1', \"two\": '2', \"three\":'3',\"four\":'4',\"five\":'5',\"six\":'6',\"seven\":'7',\"eight\":'8',\"nine\":'9'}\n",
    "string= input()\n",
    "\n",
    "res= ''.join(s[ele] for ele in string.split())\n",
    "print(res)"
   ]
  },
  {
   "cell_type": "code",
   "execution_count": 72,
   "id": "6c1fd400",
   "metadata": {},
   "outputs": [
    {
     "ename": "SyntaxError",
     "evalue": "invalid syntax (Temp/ipykernel_7660/2786858699.py, line 2)",
     "output_type": "error",
     "traceback": [
      "\u001b[1;36m  File \u001b[1;32m\"C:\\Users\\soniya\\AppData\\Local\\Temp/ipykernel_7660/2786858699.py\"\u001b[1;36m, line \u001b[1;32m2\u001b[0m\n\u001b[1;33m    s.update(\"c\":(\"a\":\"1\",\"b\":\"2\")\u001b[0m\n\u001b[1;37m                ^\u001b[0m\n\u001b[1;31mSyntaxError\u001b[0m\u001b[1;31m:\u001b[0m invalid syntax\n"
     ]
    }
   ],
   "source": [
    "s= {\"a\":\"1\",\"b\":\"2\"}\n",
    "s[\"\"]"
   ]
  },
  {
   "cell_type": "code",
   "execution_count": 78,
   "id": "44c66fb8",
   "metadata": {},
   "outputs": [
    {
     "name": "stdout",
     "output_type": "stream",
     "text": [
      "one two double three\n"
     ]
    },
    {
     "ename": "TypeError",
     "evalue": "sequence item 2: expected str instance, dict found",
     "output_type": "error",
     "traceback": [
      "\u001b[1;31m---------------------------------------------------------------------------\u001b[0m",
      "\u001b[1;31mTypeError\u001b[0m                                 Traceback (most recent call last)",
      "\u001b[1;32m~\\AppData\\Local\\Temp/ipykernel_7660/3147127345.py\u001b[0m in \u001b[0;36m<module>\u001b[1;34m\u001b[0m\n\u001b[0;32m      7\u001b[0m \u001b[0mstring\u001b[0m\u001b[1;33m=\u001b[0m \u001b[0minput\u001b[0m\u001b[1;33m(\u001b[0m\u001b[1;33m)\u001b[0m\u001b[1;33m\u001b[0m\u001b[1;33m\u001b[0m\u001b[0m\n\u001b[0;32m      8\u001b[0m \u001b[1;33m\u001b[0m\u001b[0m\n\u001b[1;32m----> 9\u001b[1;33m \u001b[0mres\u001b[0m\u001b[1;33m=\u001b[0m \u001b[1;34m''\u001b[0m\u001b[1;33m.\u001b[0m\u001b[0mjoin\u001b[0m\u001b[1;33m(\u001b[0m\u001b[0ms\u001b[0m\u001b[1;33m[\u001b[0m\u001b[0mele\u001b[0m\u001b[1;33m]\u001b[0m \u001b[1;32mfor\u001b[0m \u001b[0mele\u001b[0m \u001b[1;32min\u001b[0m \u001b[0mstring\u001b[0m\u001b[1;33m.\u001b[0m\u001b[0msplit\u001b[0m\u001b[1;33m(\u001b[0m\u001b[1;33m)\u001b[0m\u001b[1;33m)\u001b[0m\u001b[1;33m\u001b[0m\u001b[1;33m\u001b[0m\u001b[0m\n\u001b[0m\u001b[0;32m     10\u001b[0m \u001b[0mprint\u001b[0m\u001b[1;33m(\u001b[0m\u001b[0mres\u001b[0m\u001b[1;33m)\u001b[0m\u001b[1;33m\u001b[0m\u001b[1;33m\u001b[0m\u001b[0m\n",
      "\u001b[1;31mTypeError\u001b[0m: sequence item 2: expected str instance, dict found"
     ]
    }
   ],
   "source": [
    "s= {\"zero\":'0',\"one\":'1', \"two\": '2', \"three\":'3',\"four\":'4',\"five\":'5',\"six\":'6',\"seven\":'7',\"eight\":'8',\"nine\":'9'}\n",
    "s[\"double\"]={\"zero\":'0',\"one\":'1', \"two\": '2', \"three\":'3',\"four\":'4',\"five\":'5',\"six\":'6',\"seven\":'7',\"eight\":'8',\"nine\":'9'}\n",
    "s[\"triple\"]={\"zero\":'0',\"one\":'1', \"two\": '2', \"three\":'3',\"four\":'4',\"five\":'5',\"six\":'6',\"seven\":'7',\"eight\":'8',\"nine\":'9'}\n",
    "s[\"double\"]={\"zero\":'0',\"one\":'1', \"two\": '2', \"three\":'3',\"four\":'4',\"five\":'5',\"six\":'6',\"seven\":'7',\"eight\":'8',\"nine\":'9'}\n",
    "\n",
    "\n",
    "string= input()\n",
    "\n",
    "res= ''.join(s[ele] for ele in string.split())\n",
    "print(res)\n"
   ]
  },
  {
   "cell_type": "code",
   "execution_count": null,
   "id": "b6ad896d",
   "metadata": {},
   "outputs": [],
   "source": [
    "s= {\"zero\":'0',\"one\":'1', \"two\": '2', \"three\":'3',\"four\":'4',\"five\":'5',\"six\":'6',\"seven\":'7',\"eight\":'8',\"nine\":'9'}\n",
    "s"
   ]
  }
 ],
 "metadata": {
  "kernelspec": {
   "display_name": "Python 3 (ipykernel)",
   "language": "python",
   "name": "python3"
  },
  "language_info": {
   "codemirror_mode": {
    "name": "ipython",
    "version": 3
   },
   "file_extension": ".py",
   "mimetype": "text/x-python",
   "name": "python",
   "nbconvert_exporter": "python",
   "pygments_lexer": "ipython3",
   "version": "3.9.7"
  }
 },
 "nbformat": 4,
 "nbformat_minor": 5
}
